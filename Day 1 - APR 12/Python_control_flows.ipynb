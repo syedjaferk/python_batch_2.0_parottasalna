{
  "nbformat": 4,
  "nbformat_minor": 0,
  "metadata": {
    "colab": {
      "provenance": []
    },
    "kernelspec": {
      "name": "python3",
      "display_name": "Python 3"
    },
    "language_info": {
      "name": "python"
    }
  },
  "cells": [
    {
      "cell_type": "markdown",
      "source": [
        "## Flow Control\n",
        "\n",
        "1. Conditional Statements\n",
        "  1. if\n",
        "  2. if-else\n",
        "  3. if-elif-else\n",
        "  4. nested if-else\n",
        "\n",
        "2. Iterative Statements\n",
        "  1. for\n",
        "  2. while\n",
        "\n",
        "3. Transfer Statements\n",
        "  1. break\n",
        "  2. continue\n",
        "  3. pass\n",
        "  "
      ],
      "metadata": {
        "id": "UGNCI3L9J3ZO"
      }
    },
    {
      "cell_type": "markdown",
      "source": [
        "### If condition"
      ],
      "metadata": {
        "id": "P9Bnqg_NaKmz"
      }
    },
    {
      "cell_type": "code",
      "execution_count": null,
      "metadata": {
        "id": "l-gWdjSPIE5K",
        "colab": {
          "base_uri": "https://localhost:8080/"
        },
        "outputId": "25f25e4c-4519-45ae-a72a-fa1e1cb7d59b"
      },
      "outputs": [
        {
          "output_type": "stream",
          "name": "stdout",
          "text": [
            "Passing grade\n"
          ]
        }
      ],
      "source": [
        "# Example 1:\n",
        "grade = 35\n",
        "name = 'maths'\n",
        "if (grade >= 65 or name == 'maths'):\n",
        "    print(\"Passing grade\")"
      ]
    },
    {
      "cell_type": "code",
      "source": [
        "num = 3\n",
        "if (num > 0):\n",
        "    print(num, \"is a positive number.\") # 1\n",
        "print(\"This is always printed.\") # 2\n",
        "\n",
        "num = -1\n",
        "if num > 0:\n",
        "    print(num, \"is a negative number.\") # 3\n",
        "print(\"This is also always printed.\") #4"
      ],
      "metadata": {
        "colab": {
          "base_uri": "https://localhost:8080/"
        },
        "id": "72mmDxRUaNc_",
        "outputId": "62624b81-c9d8-43bb-d1f9-ab0d6aa98d21"
      },
      "execution_count": null,
      "outputs": [
        {
          "output_type": "stream",
          "name": "stdout",
          "text": [
            "3 is a positive number.\n",
            "This is always printed.\n",
            "This is also always printed.\n"
          ]
        }
      ]
    },
    {
      "cell_type": "code",
      "source": [
        "num1, num2 = 6, 6\n",
        "if(num1 < num2):\n",
        "    print(\"num1 is less than num2\")"
      ],
      "metadata": {
        "id": "Y3FiAyojaV7I"
      },
      "execution_count": null,
      "outputs": []
    },
    {
      "cell_type": "markdown",
      "source": [
        "###  if else"
      ],
      "metadata": {
        "id": "WjiwNUNbaj4q"
      }
    },
    {
      "cell_type": "code",
      "source": [
        "grade = 60\n",
        "if grade >= 65:\n",
        "    print(\"Passing grade\")\n",
        "else:\n",
        "    print(\"Failing grade\")"
      ],
      "metadata": {
        "colab": {
          "base_uri": "https://localhost:8080/"
        },
        "id": "PDclRnlwabr7",
        "outputId": "f343ca75-b27a-4dff-d84b-c47958a68dd3"
      },
      "execution_count": null,
      "outputs": [
        {
          "output_type": "stream",
          "name": "stdout",
          "text": [
            "Failing grade\n"
          ]
        }
      ]
    },
    {
      "cell_type": "code",
      "source": [
        "# Password checker\n",
        "\n",
        "def password_check(password):\n",
        "    if password == \"Python@99>\":\n",
        "        print(\"Correct password\")\n",
        "    else:\n",
        "        print(\"Incorrect Password\")\n",
        "\n",
        "password_check(\"Python@99>\")\n",
        "password_check(\"Python99\")"
      ],
      "metadata": {
        "colab": {
          "base_uri": "https://localhost:8080/"
        },
        "id": "vNiETbzfaldG",
        "outputId": "81814d35-fda1-48aa-d17b-f309c145cb4e"
      },
      "execution_count": null,
      "outputs": [
        {
          "output_type": "stream",
          "name": "stdout",
          "text": [
            "Correct password\n",
            "Incorrect Password\n"
          ]
        }
      ]
    },
    {
      "cell_type": "markdown",
      "source": [
        "### if-elif-else"
      ],
      "metadata": {
        "id": "2-89InaKa8Ri"
      }
    },
    {
      "cell_type": "code",
      "source": [
        "# else if -> elif\n",
        "num = 0\n",
        "\n",
        "if num > 0:\n",
        "    print(\"Positive number\")\n",
        "elif num == 0:\n",
        "    print(\"Zero\")\n",
        "else:\n",
        "    print(\"Negative number\")"
      ],
      "metadata": {
        "colab": {
          "base_uri": "https://localhost:8080/"
        },
        "id": "EO-2PnBiay0m",
        "outputId": "929886a0-8244-4571-f1f5-878319fe150c"
      },
      "execution_count": null,
      "outputs": [
        {
          "output_type": "stream",
          "name": "stdout",
          "text": [
            "Zero\n"
          ]
        }
      ]
    },
    {
      "cell_type": "code",
      "source": [
        "# grading\n",
        "grade = 95\n",
        "\n",
        "if grade >= 90:\n",
        "    print(\"A grade\")\n",
        "elif grade >=80:\n",
        "    print(\"B grade\")\n",
        "elif grade >=70:\n",
        "    print(\"C grade\")\n",
        "elif grade >= 65:\n",
        "    print(\"D grade\")\n",
        "else:\n",
        "    print(\"Failing grade\")"
      ],
      "metadata": {
        "colab": {
          "base_uri": "https://localhost:8080/"
        },
        "id": "U_3pljjmbC1r",
        "outputId": "9c0950b3-493a-4856-a89d-f3745b061dc5"
      },
      "execution_count": null,
      "outputs": [
        {
          "output_type": "stream",
          "name": "stdout",
          "text": [
            "A grade\n"
          ]
        }
      ]
    },
    {
      "cell_type": "code",
      "source": [
        "a = 0\n",
        "if a > 0 and a % 2 == 0:\n",
        "    print('A is an even and positive integer')\n",
        "elif a > 0 and a % 2 !=  0:\n",
        "    print('A is a positive integer')\n",
        "elif a == 0:\n",
        "    print('A is zero')\n",
        "else:\n",
        "    print('A is negative')"
      ],
      "metadata": {
        "colab": {
          "base_uri": "https://localhost:8080/"
        },
        "id": "WOj-HXlmbHSi",
        "outputId": "08164a3e-5b32-4d14-b5f7-082cb9142a2b"
      },
      "execution_count": null,
      "outputs": [
        {
          "output_type": "stream",
          "name": "stdout",
          "text": [
            "A is zero\n"
          ]
        }
      ]
    },
    {
      "cell_type": "markdown",
      "source": [
        "### nested if"
      ],
      "metadata": {
        "id": "4WRmvxdObgT6"
      }
    },
    {
      "cell_type": "code",
      "source": [
        "num1 = 100\n",
        "if (num1 != 0):  # For zero condition is FALSE\n",
        "    if(num1 > 0):\n",
        "        print(\"num1 is a positive number\")\n",
        "    else:\n",
        "        print(\"num1 is a negative number\")\n",
        "else:  # For zero condition is TRUE\n",
        "    print(\"num1 is neither positive nor negative\")"
      ],
      "metadata": {
        "colab": {
          "base_uri": "https://localhost:8080/"
        },
        "id": "zDZmQxUQbOFE",
        "outputId": "b38c91f2-aed4-45d2-9369-f1453f592882"
      },
      "execution_count": null,
      "outputs": [
        {
          "output_type": "stream",
          "name": "stdout",
          "text": [
            "num1 is a positive number\n"
          ]
        }
      ]
    },
    {
      "cell_type": "markdown",
      "source": [
        "### FOR loop"
      ],
      "metadata": {
        "id": "TktdwTRHb4RI"
      }
    },
    {
      "cell_type": "code",
      "source": [
        "words = ['one', 'two', 'three', 'four', 'five']\n",
        "\n",
        "for i in words:\n",
        "    print(i)"
      ],
      "metadata": {
        "colab": {
          "base_uri": "https://localhost:8080/"
        },
        "id": "Z5_admK7biy7",
        "outputId": "21233c38-cbc9-47ca-caa8-332b365d5900"
      },
      "execution_count": null,
      "outputs": [
        {
          "output_type": "stream",
          "name": "stdout",
          "text": [
            "one\n",
            "two\n",
            "three\n",
            "four\n",
            "five\n"
          ]
        }
      ]
    },
    {
      "cell_type": "code",
      "source": [
        "# Avg of numbers\n",
        "\n",
        "numbers = [10, 20, 30, 40, 50, 100]\n",
        "\n",
        "# definite iteration\n",
        "# run loop 5 times because list contains 5 items\n",
        "sum = 0\n",
        "for i in numbers[::-1]:\n",
        "    print(i)\n",
        "    sum = sum + i\n",
        "list_size = len(numbers)\n",
        "average = sum / list_size\n",
        "print(average)"
      ],
      "metadata": {
        "colab": {
          "base_uri": "https://localhost:8080/"
        },
        "id": "-GFzNspIb8ct",
        "outputId": "83c8d081-342b-4384-a471-47f121f397cc"
      },
      "execution_count": null,
      "outputs": [
        {
          "output_type": "stream",
          "name": "stdout",
          "text": [
            "100\n",
            "50\n",
            "40\n",
            "30\n",
            "20\n",
            "10\n",
            "41.666666666666664\n"
          ]
        }
      ]
    },
    {
      "cell_type": "code",
      "source": [
        "for character in \"dsa in python\"[::-1]:\n",
        "  print(character, end=\", \")"
      ],
      "metadata": {
        "colab": {
          "base_uri": "https://localhost:8080/"
        },
        "id": "tXOQ7gehKPkS",
        "outputId": "651cda7b-71fe-43f0-8a3e-14e3e0be46d5"
      },
      "execution_count": null,
      "outputs": [
        {
          "output_type": "stream",
          "name": "stdout",
          "text": [
            "n, o, h, t, y, p,  , n, i,  , a, s, d, "
          ]
        }
      ]
    },
    {
      "cell_type": "code",
      "source": [
        "# usuall range\n",
        "\n",
        "# empty range\n",
        "print(list(range(0)))\n",
        "\n",
        "# using range(stop)\n",
        "print(list(range(10)))\n",
        "\n",
        "# using range(start, stop)\n",
        "print(list(range(1, 10)))"
      ],
      "metadata": {
        "colab": {
          "base_uri": "https://localhost:8080/"
        },
        "id": "SC-v9whpcBfK",
        "outputId": "20ca260a-ac9e-441b-d9db-09310488a1ba"
      },
      "execution_count": null,
      "outputs": [
        {
          "output_type": "stream",
          "name": "stdout",
          "text": [
            "[]\n",
            "[0, 1, 2, 3, 4, 5, 6, 7, 8, 9]\n",
            "[1, 2, 3, 4, 5, 6, 7, 8, 9]\n"
          ]
        }
      ]
    },
    {
      "cell_type": "code",
      "source": [
        "student_name = 'Alan'\n",
        "\n",
        "marks = {'Alan': 99, 'Bill': 55, 'Cory': 77}\n",
        "\n",
        "for student in marks:\n",
        "    if student == student_name:\n",
        "        print(marks[student])\n",
        "        break\n",
        "else:\n",
        "    print('No entry with that name found.')"
      ],
      "metadata": {
        "colab": {
          "base_uri": "https://localhost:8080/"
        },
        "id": "zH6fVE3Dc_px",
        "outputId": "d0802a98-647a-4c4b-8cf6-a4d3906a962e"
      },
      "execution_count": null,
      "outputs": [
        {
          "output_type": "stream",
          "name": "stdout",
          "text": [
            "99\n"
          ]
        }
      ]
    },
    {
      "cell_type": "markdown",
      "source": [
        "### break"
      ],
      "metadata": {
        "id": "2FKbEHhWdebr"
      }
    },
    {
      "cell_type": "code",
      "source": [
        "numbers = (0,1,2,3,4,5)\n",
        "for number in numbers:\n",
        "    print(number)\n",
        "    if number == 3:\n",
        "        break"
      ],
      "metadata": {
        "colab": {
          "base_uri": "https://localhost:8080/"
        },
        "id": "zsxTa-uLdULf",
        "outputId": "bb80e47a-0629-4a16-abd1-576e64b86414"
      },
      "execution_count": null,
      "outputs": [
        {
          "output_type": "stream",
          "name": "stdout",
          "text": [
            "0\n",
            "1\n",
            "2\n",
            "3\n"
          ]
        }
      ]
    },
    {
      "cell_type": "markdown",
      "source": [
        "### continue"
      ],
      "metadata": {
        "id": "dPbF7QwldtBP"
      }
    },
    {
      "cell_type": "code",
      "source": [
        "color = ['Green', 'Pink', 'Blue']\n",
        "for i in color:\n",
        "    if(i == 'Pink'):\n",
        "        continue\n",
        "    print (i)"
      ],
      "metadata": {
        "colab": {
          "base_uri": "https://localhost:8080/"
        },
        "id": "JqDqjt8ddgQr",
        "outputId": "7a057b79-eab0-410c-b5e6-fa79c5806e20"
      },
      "execution_count": null,
      "outputs": [
        {
          "output_type": "stream",
          "name": "stdout",
          "text": [
            "Green\n",
            "Blue\n"
          ]
        }
      ]
    },
    {
      "cell_type": "code",
      "source": [
        "first = [3, 6, 9]\n",
        "second = [3, 6, 9]\n",
        "for i in first:\n",
        "    for j in second:\n",
        "        if i == j:\n",
        "            continue\n",
        "        print(i, '*', j, '= ', i * j)"
      ],
      "metadata": {
        "colab": {
          "base_uri": "https://localhost:8080/"
        },
        "id": "VzHvSOckduva",
        "outputId": "8c7b471a-07db-4dc0-aab4-70e2c6c096c2"
      },
      "execution_count": null,
      "outputs": [
        {
          "output_type": "stream",
          "name": "stdout",
          "text": [
            "3 * 6 =  18\n",
            "3 * 9 =  27\n",
            "6 * 3 =  18\n",
            "6 * 9 =  54\n",
            "9 * 3 =  27\n",
            "9 * 6 =  54\n"
          ]
        }
      ]
    },
    {
      "cell_type": "markdown",
      "source": [
        "### while"
      ],
      "metadata": {
        "id": "ObtnD_6UeMIZ"
      }
    },
    {
      "cell_type": "code",
      "source": [
        "count = 1\n",
        "# run loop till count is less than 5\n",
        "while count < 5:\n",
        "    print(count)\n",
        "    count = count + 1\n",
        "    print('after count increased', count)\n",
        "else:\n",
        "  print('hi')"
      ],
      "metadata": {
        "colab": {
          "base_uri": "https://localhost:8080/"
        },
        "id": "A4diQqx2d75B",
        "outputId": "6d2d1c43-91ed-45f2-9b3e-895002adc199"
      },
      "execution_count": null,
      "outputs": [
        {
          "output_type": "stream",
          "name": "stdout",
          "text": [
            "1\n",
            "after count increased 2\n",
            "2\n",
            "after count increased 3\n",
            "3\n",
            "after count increased 4\n",
            "4\n",
            "after count increased 5\n",
            "hi\n"
          ]
        }
      ]
    },
    {
      "cell_type": "code",
      "source": [
        "num = 1000000\n",
        "sum = 0\n",
        "i = 1\n",
        "while i <= num:\n",
        "    sum = sum + i\n",
        "    i = i + 1\n",
        "print(\"Sum of first 10 number is:\", sum)"
      ],
      "metadata": {
        "colab": {
          "base_uri": "https://localhost:8080/"
        },
        "id": "IkD0DQ-heN3_",
        "outputId": "bbe3e163-63de-4423-ed0b-3f6c7e6362c6"
      },
      "execution_count": null,
      "outputs": [
        {
          "output_type": "stream",
          "name": "stdout",
          "text": [
            "Sum of first 10 number is: 500000500000\n"
          ]
        }
      ]
    },
    {
      "cell_type": "markdown",
      "source": [
        "## Function"
      ],
      "metadata": {
        "id": "9206ylbAeo1R"
      }
    },
    {
      "cell_type": "code",
      "source": [
        "def greet():\n",
        "  print(\"Welcome to DSA with Python\")\n",
        "\n",
        "greet()"
      ],
      "metadata": {
        "id": "TueP9gfjePrK",
        "colab": {
          "base_uri": "https://localhost:8080/"
        },
        "outputId": "86c9576b-4572-4448-bde7-8bc23fe3e904"
      },
      "execution_count": null,
      "outputs": [
        {
          "output_type": "stream",
          "name": "stdout",
          "text": [
            "Welcome to DSA with Python\n"
          ]
        }
      ]
    },
    {
      "cell_type": "code",
      "source": [
        "def add_two_numbers ():\n",
        "    num_one = 3\n",
        "    num_two = 6\n",
        "    total = num_one + num_two\n",
        "    print(total)\n",
        "add_two_numbers()"
      ],
      "metadata": {
        "colab": {
          "base_uri": "https://localhost:8080/"
        },
        "id": "wEQdHWGSe5aJ",
        "outputId": "cb10b03a-b7b5-4e26-e8f1-cfdb09e20b30"
      },
      "execution_count": null,
      "outputs": [
        {
          "output_type": "stream",
          "name": "stdout",
          "text": [
            "9\n"
          ]
        }
      ]
    },
    {
      "cell_type": "code",
      "source": [
        "def add_two_numbers (num_one, num_two):\n",
        "    total = num_one + num_two\n",
        "    print(total)\n",
        "add_two_numbers(3, 2)\n",
        "add_two_numbers(10, -9)\n",
        ""
      ],
      "metadata": {
        "colab": {
          "base_uri": "https://localhost:8080/"
        },
        "id": "-QsSgX4tOSWn",
        "outputId": "f9345600-5a92-4fb5-cb63-57cdd4fb386b"
      },
      "execution_count": null,
      "outputs": [
        {
          "output_type": "stream",
          "name": "stdout",
          "text": [
            "5\n",
            "1\n"
          ]
        }
      ]
    },
    {
      "cell_type": "code",
      "source": [
        "def generate_full_name ():\n",
        "    first_name = 'Milaan'\n",
        "    last_name = 'Parmar'\n",
        "    space = ' '\n",
        "    full_name = first_name + space + last_name\n",
        "    print(full_name)\n",
        "generate_full_name ()"
      ],
      "metadata": {
        "colab": {
          "base_uri": "https://localhost:8080/"
        },
        "id": "9WASJewMe8Gv",
        "outputId": "7c40ff4f-f31c-428e-98d8-d96a6e7eab80"
      },
      "execution_count": null,
      "outputs": [
        {
          "output_type": "stream",
          "name": "stdout",
          "text": [
            "Milaan Parmar\n"
          ]
        }
      ]
    },
    {
      "cell_type": "code",
      "source": [
        "# With param\n",
        "\n",
        "def greet(name):\n",
        "    \"\"\"\n",
        "    This function greets to the person passed in as a parameter\n",
        "    \"\"\"\n",
        "    print(\"Hello, \" + name + \". Good morning!\")\n",
        "\n",
        "greet(\"Aron Swartz\")"
      ],
      "metadata": {
        "id": "j5oXAnZse-Wi",
        "colab": {
          "base_uri": "https://localhost:8080/"
        },
        "outputId": "a08d1f89-e1b4-4e11-b1a7-d1ad147925cf"
      },
      "execution_count": null,
      "outputs": [
        {
          "output_type": "stream",
          "name": "stdout",
          "text": [
            "Hello, Aron Swartz. Good morning!\n"
          ]
        }
      ]
    },
    {
      "cell_type": "code",
      "source": [
        "def sum_of_numbers(n):\n",
        "    total = 0\n",
        "    for i in range(n+1):\n",
        "        total+=i\n",
        "    print(total)\n",
        "    return \"Total Value is \" + str(total)\n",
        "print(sum_of_numbers(10))  # 55\n",
        "print(sum_of_numbers(100)) # 5050"
      ],
      "metadata": {
        "colab": {
          "base_uri": "https://localhost:8080/"
        },
        "id": "VWyEYV7rfG8p",
        "outputId": "0c8472ec-4751-40a6-e4c8-246bbedc2c57"
      },
      "execution_count": null,
      "outputs": [
        {
          "output_type": "stream",
          "name": "stdout",
          "text": [
            "55\n",
            "Total Value is 55\n",
            "5050\n",
            "Total Value is 5050\n"
          ]
        }
      ]
    },
    {
      "cell_type": "code",
      "source": [
        "# kwargs, args"
      ],
      "metadata": {
        "id": "j7S0FMOtPh2M"
      },
      "execution_count": null,
      "outputs": []
    },
    {
      "cell_type": "code",
      "source": [
        "def greet(*names):\n",
        "    print(type(names))\n",
        "    for name in names:\n",
        "        print(\"Hello\", name)\n",
        "\n",
        "greet(\"Gary\", \"Hank\", \"Ivan\", \"John\")"
      ],
      "metadata": {
        "colab": {
          "base_uri": "https://localhost:8080/"
        },
        "id": "WF_AlKeOfLGM",
        "outputId": "e6b9a4d4-569d-4960-9661-8c6366939ff7"
      },
      "execution_count": null,
      "outputs": [
        {
          "output_type": "stream",
          "name": "stdout",
          "text": [
            "<class 'tuple'>\n",
            "Hello Gary\n",
            "Hello Hank\n",
            "Hello Ivan\n",
            "Hello John\n"
          ]
        }
      ]
    },
    {
      "cell_type": "code",
      "source": [
        "# recursion\n",
        "def factorial(n):\n",
        "    if n == 1:\n",
        "        return 1\n",
        "    else:\n",
        "        return (n * factorial(n-1))\n",
        "\n",
        "num = 100\n",
        "print(\"The factorial of\", num, \"is\", factorial(num))"
      ],
      "metadata": {
        "colab": {
          "base_uri": "https://localhost:8080/"
        },
        "id": "3lt1ImszghZ8",
        "outputId": "50655646-6e38-45b6-b027-e22f73c9ddd4"
      },
      "execution_count": null,
      "outputs": [
        {
          "output_type": "stream",
          "name": "stdout",
          "text": [
            "The factorial of 100 is 93326215443944152681699238856266700490715968264381621468592963895217599993229915608941463976156518286253697920827223758251185210916864000000000000000000000000\n"
          ]
        }
      ]
    },
    {
      "cell_type": "markdown",
      "source": [
        "## Cyclometric complexity"
      ],
      "metadata": {
        "id": "2tAdwLzCEtep"
      }
    },
    {
      "cell_type": "code",
      "source": [
        "def get_speed(extinct, flightless, name):\n",
        "    if extinct:\n",
        "      return -1\n",
        "    else:\n",
        "      if flightless:\n",
        "        if name == 'Ostrich':\n",
        "          return 15\n",
        "        elif name == 'Chicken':\n",
        "          return 7\n",
        "        elif name == 'Flamingo':\n",
        "          return 8\n",
        "        else:\n",
        "          return -1\n",
        "      else:\n",
        "        if name == 'Gold Finch':\n",
        "          return 12\n",
        "        elif name == 'Bluejay':\n",
        "          return 10\n",
        "        elif name == 'Robin':\n",
        "          return 14\n",
        "        elif name == 'Hummingbird':\n",
        "          return 16\n",
        "        else:\n",
        "          return -1"
      ],
      "metadata": {
        "id": "7hX1GQyMgzur"
      },
      "execution_count": null,
      "outputs": []
    },
    {
      "cell_type": "code",
      "source": [
        "get_speed(extinct=False, flightless=True, name='Ostrich1')"
      ],
      "metadata": {
        "colab": {
          "base_uri": "https://localhost:8080/"
        },
        "id": "fHjoCTTkE_lp",
        "outputId": "8205150b-19bf-491b-acc7-d9228a3252cc"
      },
      "execution_count": null,
      "outputs": [
        {
          "output_type": "execute_result",
          "data": {
            "text/plain": [
              "-1"
            ]
          },
          "metadata": {},
          "execution_count": 58
        }
      ]
    },
    {
      "cell_type": "code",
      "source": [
        "d = (1, 2, 3, 4, 5)\n",
        "a, *b, c = d"
      ],
      "metadata": {
        "id": "2_mFXSrrX5FQ"
      },
      "execution_count": null,
      "outputs": []
    },
    {
      "cell_type": "code",
      "source": [
        "a"
      ],
      "metadata": {
        "colab": {
          "base_uri": "https://localhost:8080/"
        },
        "id": "Xb6Gqn22TkvG",
        "outputId": "c451a310-84cd-4636-9014-b55ba0935e16"
      },
      "execution_count": null,
      "outputs": [
        {
          "output_type": "execute_result",
          "data": {
            "text/plain": [
              "1"
            ]
          },
          "metadata": {},
          "execution_count": 65
        }
      ]
    },
    {
      "cell_type": "code",
      "source": [
        "c"
      ],
      "metadata": {
        "colab": {
          "base_uri": "https://localhost:8080/"
        },
        "id": "k6uN2PfuToRv",
        "outputId": "98dd7682-ef64-4232-d2be-c75952a32df5"
      },
      "execution_count": null,
      "outputs": [
        {
          "output_type": "execute_result",
          "data": {
            "text/plain": [
              "5"
            ]
          },
          "metadata": {},
          "execution_count": 66
        }
      ]
    },
    {
      "cell_type": "code",
      "source": [
        "b"
      ],
      "metadata": {
        "colab": {
          "base_uri": "https://localhost:8080/"
        },
        "id": "NaMVCkOWTpZl",
        "outputId": "97740711-abb9-479c-b1da-b5307f20bbdd"
      },
      "execution_count": null,
      "outputs": [
        {
          "output_type": "execute_result",
          "data": {
            "text/plain": [
              "[2, 3, 4]"
            ]
          },
          "metadata": {},
          "execution_count": 67
        }
      ]
    },
    {
      "cell_type": "code",
      "source": [
        "d"
      ],
      "metadata": {
        "colab": {
          "base_uri": "https://localhost:8080/"
        },
        "id": "tAuSzT7lTqdY",
        "outputId": "412c668b-84c5-4181-9373-e577a7e0870e"
      },
      "execution_count": null,
      "outputs": [
        {
          "output_type": "execute_result",
          "data": {
            "text/plain": [
              "(1, 2, 3, 4, 5)"
            ]
          },
          "metadata": {},
          "execution_count": 68
        }
      ]
    },
    {
      "cell_type": "code",
      "source": [],
      "metadata": {
        "id": "15FROFHhT0Zp"
      },
      "execution_count": null,
      "outputs": []
    }
  ]
}