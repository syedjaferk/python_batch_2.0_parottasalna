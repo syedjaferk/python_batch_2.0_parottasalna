{
  "nbformat": 4,
  "nbformat_minor": 0,
  "metadata": {
    "colab": {
      "provenance": []
    },
    "kernelspec": {
      "name": "python3",
      "display_name": "Python 3"
    },
    "language_info": {
      "name": "python"
    }
  },
  "cells": [
    {
      "cell_type": "code",
      "execution_count": 1,
      "metadata": {
        "colab": {
          "base_uri": "https://localhost:8080/"
        },
        "id": "FJPoOEuBpBIE",
        "outputId": "71a87f2c-1728-4098-a6b6-e04a4256b65b"
      },
      "outputs": [
        {
          "output_type": "stream",
          "name": "stdout",
          "text": [
            "Hello World!, From Python Course\n"
          ]
        }
      ],
      "source": [
        "print(\"Hello World!, From Python Course\")"
      ]
    },
    {
      "cell_type": "markdown",
      "source": [
        "## Keywords and Identifiers"
      ],
      "metadata": {
        "id": "tIAzQL2Svkt_"
      }
    },
    {
      "cell_type": "code",
      "source": [
        "brk = 1"
      ],
      "metadata": {
        "id": "B6IQ4441vji9"
      },
      "execution_count": 2,
      "outputs": []
    },
    {
      "cell_type": "markdown",
      "source": [
        "## Python Statement, Indentation and Comments\n",
        "\n",
        "*   List item\n",
        "*   List item\n",
        "\n",
        "\n",
        "\n",
        "- mistake -> mix space and tab\n"
      ],
      "metadata": {
        "id": "LbiCqrn0vroH"
      }
    },
    {
      "cell_type": "code",
      "source": [
        "# single line\n",
        "\n",
        "\n",
        "\"\"\"sdfsdfsdfsdf\"\"\"\n",
        "a = 1\n",
        "b = 2\n",
        "\n",
        "if a > 4:\n",
        "  print(4)\n",
        "  if b > 4:\n",
        "    print(4)"
      ],
      "metadata": {
        "id": "iQkPW5ojvTF_"
      },
      "execution_count": 4,
      "outputs": []
    },
    {
      "cell_type": "code",
      "source": [
        "def double(num):\n",
        "    \"\"\"Function to double the value\"\"\"\n",
        "    return 2*num"
      ],
      "metadata": {
        "id": "25iqDzAov92C"
      },
      "execution_count": 5,
      "outputs": []
    },
    {
      "cell_type": "code",
      "source": [],
      "metadata": {
        "id": "6uz-0PLEwBUv"
      },
      "execution_count": null,
      "outputs": []
    },
    {
      "cell_type": "markdown",
      "metadata": {
        "id": "c2ylTWLdorG0"
      },
      "source": [
        "## Python Variables, Constants and Literals\n"
      ]
    },
    {
      "cell_type": "code",
      "metadata": {
        "id": "l5dmTdh5obWt"
      },
      "source": [
        "a = 10"
      ],
      "execution_count": null,
      "outputs": []
    },
    {
      "cell_type": "code",
      "metadata": {
        "colab": {
          "base_uri": "https://localhost:8080/"
        },
        "id": "jqBp8mnPowwQ",
        "outputId": "ccb43d25-791d-42aa-affd-63fa00f2c37e"
      },
      "source": [
        "type(a)"
      ],
      "execution_count": null,
      "outputs": [
        {
          "output_type": "execute_result",
          "data": {
            "text/plain": [
              "int"
            ]
          },
          "metadata": {},
          "execution_count": 44
        }
      ]
    },
    {
      "cell_type": "code",
      "metadata": {
        "colab": {
          "base_uri": "https://localhost:8080/"
        },
        "id": "GGVQgvhEoyw-",
        "outputId": "b5483868-e898-4634-fbf2-1719578bfd4d"
      },
      "source": [
        "id(a)"
      ],
      "execution_count": null,
      "outputs": [
        {
          "output_type": "execute_result",
          "data": {
            "text/plain": [
              "93830007024416"
            ]
          },
          "metadata": {},
          "execution_count": 45
        }
      ]
    },
    {
      "cell_type": "code",
      "metadata": {
        "colab": {
          "base_uri": "https://localhost:8080/"
        },
        "id": "OmfT61hmo5-G",
        "outputId": "9a2e3594-69d7-4786-c5e7-f9f5b8f806e1"
      },
      "source": [
        "id(10)"
      ],
      "execution_count": null,
      "outputs": [
        {
          "output_type": "execute_result",
          "data": {
            "text/plain": [
              "93830007024416"
            ]
          },
          "metadata": {},
          "execution_count": 46
        }
      ]
    },
    {
      "cell_type": "code",
      "metadata": {
        "id": "bYMZDZwOo9FH"
      },
      "source": [
        "b = 10"
      ],
      "execution_count": null,
      "outputs": []
    },
    {
      "cell_type": "code",
      "metadata": {
        "colab": {
          "base_uri": "https://localhost:8080/"
        },
        "id": "tFZOH2VnpE8o",
        "outputId": "a9d38eed-370d-4c95-8c81-60584b036b75"
      },
      "source": [
        "id(b)"
      ],
      "execution_count": null,
      "outputs": [
        {
          "output_type": "execute_result",
          "data": {
            "text/plain": [
              "93830007024416"
            ]
          },
          "metadata": {},
          "execution_count": 48
        }
      ]
    },
    {
      "cell_type": "code",
      "metadata": {
        "id": "kx2AeuM8pGJy"
      },
      "source": [
        "b = 3"
      ],
      "execution_count": null,
      "outputs": []
    },
    {
      "cell_type": "code",
      "metadata": {
        "colab": {
          "base_uri": "https://localhost:8080/"
        },
        "id": "hVMqLzT9pQYR",
        "outputId": "693301ea-6977-43f8-af30-3603ed4cbbd6"
      },
      "source": [
        "id(b)"
      ],
      "execution_count": null,
      "outputs": [
        {
          "output_type": "execute_result",
          "data": {
            "text/plain": [
              "93830007024192"
            ]
          },
          "metadata": {},
          "execution_count": 50
        }
      ]
    },
    {
      "cell_type": "code",
      "metadata": {
        "id": "xuv34uoVpRqg"
      },
      "source": [
        "lis = [1,3,4]"
      ],
      "execution_count": null,
      "outputs": []
    },
    {
      "cell_type": "code",
      "metadata": {
        "colab": {
          "base_uri": "https://localhost:8080/"
        },
        "id": "cX9TNU1kpii_",
        "outputId": "fde28d17-69aa-4845-eb79-0afdf990bca4"
      },
      "source": [
        "type(lis)"
      ],
      "execution_count": null,
      "outputs": [
        {
          "output_type": "execute_result",
          "data": {
            "text/plain": [
              "list"
            ]
          },
          "metadata": {},
          "execution_count": 52
        }
      ]
    },
    {
      "cell_type": "code",
      "metadata": {
        "colab": {
          "base_uri": "https://localhost:8080/"
        },
        "id": "PxFZdjyDpjgg",
        "outputId": "8cf3ca2e-9ef4-4592-fbee-b5e2cbbcc976"
      },
      "source": [
        "id(lis)"
      ],
      "execution_count": null,
      "outputs": [
        {
          "output_type": "execute_result",
          "data": {
            "text/plain": [
              "139651716881776"
            ]
          },
          "metadata": {},
          "execution_count": 53
        }
      ]
    },
    {
      "cell_type": "code",
      "metadata": {
        "id": "bMNVw0hqpljY"
      },
      "source": [
        "lis.append(4)"
      ],
      "execution_count": null,
      "outputs": []
    },
    {
      "cell_type": "code",
      "metadata": {
        "colab": {
          "base_uri": "https://localhost:8080/"
        },
        "id": "bJfffKEkpoCv",
        "outputId": "f6c76f32-01a8-4909-eddc-c8fe729d3c1b"
      },
      "source": [
        "id(lis)"
      ],
      "execution_count": null,
      "outputs": [
        {
          "output_type": "execute_result",
          "data": {
            "text/plain": [
              "139651716881776"
            ]
          },
          "metadata": {},
          "execution_count": 55
        }
      ]
    },
    {
      "cell_type": "code",
      "metadata": {
        "id": "UG82oSeFpozO"
      },
      "source": [
        "number = 10\n",
        "numberf = 1.1\n",
        "website = \"apple.com\"\n"
      ],
      "execution_count": null,
      "outputs": []
    },
    {
      "cell_type": "code",
      "metadata": {
        "colab": {
          "base_uri": "https://localhost:8080/"
        },
        "id": "1UoUp6HqqE3K",
        "outputId": "eeb9823b-b6c7-4567-ef46-b3ff1704b8df"
      },
      "source": [
        "type(website)"
      ],
      "execution_count": null,
      "outputs": [
        {
          "output_type": "execute_result",
          "data": {
            "text/plain": [
              "str"
            ]
          },
          "metadata": {},
          "execution_count": 57
        }
      ]
    },
    {
      "cell_type": "code",
      "metadata": {
        "colab": {
          "base_uri": "https://localhost:8080/"
        },
        "id": "aE64brrLqG3Z",
        "outputId": "12c39df9-e6b8-4a27-9f71-4135d6b720d8"
      },
      "source": [
        "id(website)"
      ],
      "execution_count": null,
      "outputs": [
        {
          "output_type": "execute_result",
          "data": {
            "text/plain": [
              "139651717088752"
            ]
          },
          "metadata": {},
          "execution_count": 58
        }
      ]
    },
    {
      "cell_type": "code",
      "metadata": {
        "id": "i91-U3n9qI1x"
      },
      "source": [
        "website = \"google.com\""
      ],
      "execution_count": null,
      "outputs": []
    },
    {
      "cell_type": "code",
      "metadata": {
        "colab": {
          "base_uri": "https://localhost:8080/"
        },
        "id": "kBow_56ZqLhD",
        "outputId": "e8a95974-409e-456e-e22b-ab670f447b71"
      },
      "source": [
        "id(website)"
      ],
      "execution_count": null,
      "outputs": [
        {
          "output_type": "execute_result",
          "data": {
            "text/plain": [
              "139651717045616"
            ]
          },
          "metadata": {},
          "execution_count": 60
        }
      ]
    },
    {
      "cell_type": "code",
      "metadata": {
        "id": "Cbd36phYqMgX"
      },
      "source": [
        "a, b, c = 5, 3.2, \"Hello\"\n"
      ],
      "execution_count": null,
      "outputs": []
    },
    {
      "cell_type": "code",
      "metadata": {
        "id": "83toGiLDqT_e"
      },
      "source": [
        "x = y = z = \"same\"\n"
      ],
      "execution_count": null,
      "outputs": []
    },
    {
      "cell_type": "code",
      "metadata": {
        "colab": {
          "base_uri": "https://localhost:8080/"
        },
        "id": "OsKylDr9qXwF",
        "outputId": "bc574b7a-44eb-40b1-d09d-d4ae52458c5d"
      },
      "source": [
        "print(id(x))\n",
        "print(id(y))"
      ],
      "execution_count": null,
      "outputs": [
        {
          "output_type": "stream",
          "name": "stdout",
          "text": [
            "139651955280368\n",
            "139651955280368\n"
          ]
        }
      ]
    },
    {
      "cell_type": "code",
      "metadata": {
        "id": "45r31rflqZXZ"
      },
      "source": [
        "y = 3"
      ],
      "execution_count": null,
      "outputs": []
    },
    {
      "cell_type": "code",
      "metadata": {
        "id": "MtytQruFrEEP"
      },
      "source": [],
      "execution_count": null,
      "outputs": []
    },
    {
      "cell_type": "code",
      "metadata": {
        "id": "9lnd6RGtrFJX"
      },
      "source": [
        "PI = 43"
      ],
      "execution_count": null,
      "outputs": []
    },
    {
      "cell_type": "code",
      "metadata": {
        "id": "rvcib-vkrG0k"
      },
      "source": [
        "id(PI)"
      ],
      "execution_count": null,
      "outputs": []
    },
    {
      "cell_type": "code",
      "metadata": {
        "id": "qvXD8PuwrJWv"
      },
      "source": [
        "# String\n",
        "\n",
        "a = 'sdfd'\n",
        "b = \"asdas\"\n",
        "c = \"\"\" asdasdasdasd\n",
        "ssdfsdf\n",
        "sdfsdfsdf\n",
        "sdfsdf\n",
        "sdfdsf\"\"\""
      ],
      "execution_count": null,
      "outputs": []
    },
    {
      "cell_type": "code",
      "metadata": {
        "id": "7hZFfi1Kr-5i"
      },
      "source": [
        "b = False\n",
        "c = True"
      ],
      "execution_count": null,
      "outputs": []
    },
    {
      "cell_type": "code",
      "metadata": {
        "id": "X2GAgThKr71M"
      },
      "source": [
        "a = None\n",
        "# nan (not a number)"
      ],
      "execution_count": null,
      "outputs": []
    },
    {
      "cell_type": "code",
      "metadata": {
        "id": "UgUi8mRQr9Mr"
      },
      "source": [
        "1 + 1"
      ],
      "execution_count": null,
      "outputs": []
    },
    {
      "cell_type": "code",
      "metadata": {
        "id": "iOxRyiUWsgXD"
      },
      "source": [
        "\"Asda \" + \"Asda\""
      ],
      "execution_count": null,
      "outputs": []
    },
    {
      "cell_type": "code",
      "metadata": {
        "id": "a-6H-kEPshaP"
      },
      "source": [
        "a = 5\n",
        "print(a, \"is of type\", type(a))\n",
        "\n",
        "a = 2.0\n",
        "print(a, \"is of type\", type(a))\n",
        "\n",
        "a = 1+2j\n",
        "print(a, \"is complex number?\", isinstance(1+2j,complex))"
      ],
      "execution_count": null,
      "outputs": []
    },
    {
      "cell_type": "markdown",
      "metadata": {
        "id": "F_SLeqB3syDi"
      },
      "source": [
        "- list []\n",
        "- tuple ()\n",
        "- dict {'key': value}\n",
        "- set {}"
      ]
    },
    {
      "cell_type": "markdown",
      "metadata": {
        "id": "w9Zc2dn1xV73"
      },
      "source": [
        "## Python Datatypes"
      ]
    },
    {
      "cell_type": "markdown",
      "metadata": {
        "id": "wyT5jR9Ox_x6"
      },
      "source": [
        "### list"
      ]
    },
    {
      "cell_type": "code",
      "metadata": {
        "id": "HC1NUoTysvgy"
      },
      "source": [
        "# array (set of elements of same data type)\n",
        "# list (set of elements of any datatype)\n",
        "\n",
        "a = [1,2,3]\n",
        "b = [1, 1, \"hi\", 10.4, [3,4,5]]"
      ],
      "execution_count": null,
      "outputs": []
    },
    {
      "cell_type": "code",
      "metadata": {
        "id": "6cjZ7cxWtW2X"
      },
      "source": [
        "type(b)"
      ],
      "execution_count": null,
      "outputs": []
    },
    {
      "cell_type": "code",
      "metadata": {
        "id": "t63pckfUthZj"
      },
      "source": [
        "id(a)"
      ],
      "execution_count": null,
      "outputs": []
    },
    {
      "cell_type": "code",
      "metadata": {
        "id": "Eel8jr6ltXpx"
      },
      "source": [
        "a.append(2)"
      ],
      "execution_count": null,
      "outputs": []
    },
    {
      "cell_type": "code",
      "metadata": {
        "id": "IIHBmVhstgG8"
      },
      "source": [
        "id(a)"
      ],
      "execution_count": null,
      "outputs": []
    },
    {
      "cell_type": "code",
      "metadata": {
        "id": "GmOUfjZ6ts1n"
      },
      "source": [
        "b.count(1)"
      ],
      "execution_count": null,
      "outputs": []
    },
    {
      "cell_type": "code",
      "metadata": {
        "id": "3KPQjRZRuBKa"
      },
      "source": [
        "c = a + b"
      ],
      "execution_count": null,
      "outputs": []
    },
    {
      "cell_type": "code",
      "metadata": {
        "id": "q9H9t6wduEkK"
      },
      "source": [
        "a.extend(b)"
      ],
      "execution_count": null,
      "outputs": []
    },
    {
      "cell_type": "code",
      "metadata": {
        "id": "kcsv_ANwuKS9"
      },
      "source": [
        "a"
      ],
      "execution_count": null,
      "outputs": []
    },
    {
      "cell_type": "code",
      "metadata": {
        "id": "H0rzgxcpuK7x"
      },
      "source": [
        "a = [1,2,3]\n",
        "a.sort(reverse=True)"
      ],
      "execution_count": null,
      "outputs": []
    },
    {
      "cell_type": "code",
      "metadata": {
        "id": "VW2WXmQHuVtn"
      },
      "source": [
        "a"
      ],
      "execution_count": null,
      "outputs": []
    },
    {
      "cell_type": "markdown",
      "metadata": {
        "id": "y_WOESoPujK6"
      },
      "source": [
        "#### access"
      ]
    },
    {
      "cell_type": "code",
      "metadata": {
        "id": "QOIvHcyLuped"
      },
      "source": [
        "a"
      ],
      "execution_count": null,
      "outputs": []
    },
    {
      "cell_type": "code",
      "metadata": {
        "id": "5DKXeDlUudIb"
      },
      "source": [
        "a[0]"
      ],
      "execution_count": null,
      "outputs": []
    },
    {
      "cell_type": "code",
      "metadata": {
        "id": "SMuYEMIBumHb"
      },
      "source": [
        "a[1:4]"
      ],
      "execution_count": null,
      "outputs": []
    },
    {
      "cell_type": "code",
      "metadata": {
        "id": "BoqWNOalu7eB"
      },
      "source": [
        "a[-2]"
      ],
      "execution_count": null,
      "outputs": []
    },
    {
      "cell_type": "code",
      "metadata": {
        "id": "SlXSI1kgvB85"
      },
      "source": [
        "a[4:]"
      ],
      "execution_count": null,
      "outputs": []
    },
    {
      "cell_type": "code",
      "metadata": {
        "id": "MqKdQb_7vHEm"
      },
      "source": [
        "a[-5:]"
      ],
      "execution_count": null,
      "outputs": []
    },
    {
      "cell_type": "markdown",
      "metadata": {
        "id": "bQb6fRUhvULW"
      },
      "source": [
        "#### modify"
      ]
    },
    {
      "cell_type": "code",
      "metadata": {
        "id": "wVbUYPPavLr7"
      },
      "source": [
        "a[0] = 5"
      ],
      "execution_count": null,
      "outputs": []
    },
    {
      "cell_type": "code",
      "metadata": {
        "id": "M0BWnRW8vV_4"
      },
      "source": [
        "a"
      ],
      "execution_count": null,
      "outputs": []
    },
    {
      "cell_type": "code",
      "metadata": {
        "id": "bgbV0IHkvXMo"
      },
      "source": [
        "a[1:4] = [3,4,4]"
      ],
      "execution_count": null,
      "outputs": []
    },
    {
      "cell_type": "code",
      "metadata": {
        "id": "gQKWV40XvYYO"
      },
      "source": [
        "a"
      ],
      "execution_count": null,
      "outputs": []
    },
    {
      "cell_type": "markdown",
      "metadata": {
        "id": "yyRJfn_oyCWM"
      },
      "source": [
        "### tuple"
      ]
    },
    {
      "cell_type": "code",
      "metadata": {
        "id": "1gkWSfQivbn2"
      },
      "source": [
        "tup = (5, 'pro', 4.5, True, True, [1,2,3])"
      ],
      "execution_count": null,
      "outputs": []
    },
    {
      "cell_type": "code",
      "metadata": {
        "id": "vXQTLQGgylcW"
      },
      "source": [
        "tup.count(5)"
      ],
      "execution_count": null,
      "outputs": []
    },
    {
      "cell_type": "code",
      "metadata": {
        "id": "GlcwMd1YynuX"
      },
      "source": [
        "tup.index(True)"
      ],
      "execution_count": null,
      "outputs": []
    },
    {
      "cell_type": "code",
      "metadata": {
        "id": "Na6zkGaRypYC"
      },
      "source": [
        "tup[0]"
      ],
      "execution_count": null,
      "outputs": []
    },
    {
      "cell_type": "code",
      "metadata": {
        "id": "kPTV8nj8yxry"
      },
      "source": [
        "tup[-1]"
      ],
      "execution_count": null,
      "outputs": []
    },
    {
      "cell_type": "code",
      "metadata": {
        "id": "4aTKXnMHyzw4"
      },
      "source": [
        "# u cannot modify\n",
        "tup[0] = 1"
      ],
      "execution_count": null,
      "outputs": []
    },
    {
      "cell_type": "code",
      "metadata": {
        "id": "4dMiC3Jly2-k"
      },
      "source": [
        "tup[-1].append(4)"
      ],
      "execution_count": null,
      "outputs": []
    },
    {
      "cell_type": "code",
      "metadata": {
        "id": "1pPxcWvpzC3J"
      },
      "source": [
        "tup"
      ],
      "execution_count": null,
      "outputs": []
    },
    {
      "cell_type": "code",
      "metadata": {
        "id": "XdvYdZBVzFlI"
      },
      "source": [
        "id(tup[-1])"
      ],
      "execution_count": null,
      "outputs": []
    },
    {
      "cell_type": "markdown",
      "metadata": {
        "id": "-ZR7L4TyzSv6"
      },
      "source": [
        "### string"
      ]
    },
    {
      "cell_type": "code",
      "metadata": {
        "id": "Ng48uBEjzKd0"
      },
      "source": [
        "s = \"This is a string\"\n",
        "print(s)"
      ],
      "execution_count": null,
      "outputs": []
    },
    {
      "cell_type": "code",
      "metadata": {
        "id": "21rW0cAVzUJk"
      },
      "source": [
        "list(s)"
      ],
      "execution_count": null,
      "outputs": []
    },
    {
      "cell_type": "code",
      "metadata": {
        "id": "KcZef_OBzWR4"
      },
      "source": [
        "s[-1]"
      ],
      "execution_count": null,
      "outputs": []
    },
    {
      "cell_type": "code",
      "metadata": {
        "id": "lR7Xpu4gzYiP"
      },
      "source": [
        "s.split(' ')"
      ],
      "execution_count": null,
      "outputs": []
    },
    {
      "cell_type": "code",
      "metadata": {
        "id": "aylN2tMAzbdV"
      },
      "source": [
        "s.upper()"
      ],
      "execution_count": null,
      "outputs": []
    },
    {
      "cell_type": "code",
      "metadata": {
        "id": "ZOwiT1I-zjFi"
      },
      "source": [
        "s.index('string')"
      ],
      "execution_count": null,
      "outputs": []
    },
    {
      "cell_type": "code",
      "metadata": {
        "id": "mt9hYKOmzmaH"
      },
      "source": [
        "s[0:6]"
      ],
      "execution_count": null,
      "outputs": []
    },
    {
      "cell_type": "markdown",
      "metadata": {
        "id": "Bw_8m6dxz93m"
      },
      "source": [
        "### set"
      ]
    },
    {
      "cell_type": "code",
      "metadata": {
        "id": "AsW3O1nEzxgq"
      },
      "source": [
        "a = [1,2,3,4,1,3,4]"
      ],
      "execution_count": null,
      "outputs": []
    },
    {
      "cell_type": "code",
      "metadata": {
        "id": "8WAojr5X0Dha"
      },
      "source": [
        "b = set(a)"
      ],
      "execution_count": null,
      "outputs": []
    },
    {
      "cell_type": "code",
      "metadata": {
        "id": "jwPkjcT00EYq"
      },
      "source": [
        "b"
      ],
      "execution_count": null,
      "outputs": []
    },
    {
      "cell_type": "code",
      "metadata": {
        "id": "CnQt6oM90Kbx"
      },
      "source": [
        "b.add(4)"
      ],
      "execution_count": null,
      "outputs": []
    },
    {
      "cell_type": "code",
      "metadata": {
        "id": "XvpNDcj60MMF"
      },
      "source": [
        "b"
      ],
      "execution_count": null,
      "outputs": []
    },
    {
      "cell_type": "code",
      "metadata": {
        "id": "vEIRAa0q0RgI"
      },
      "source": [
        "list(b)[0]"
      ],
      "execution_count": null,
      "outputs": []
    },
    {
      "cell_type": "code",
      "metadata": {
        "id": "bQ6r_HaI0bJU"
      },
      "source": [
        "seeet = {1,2,3}"
      ],
      "execution_count": null,
      "outputs": []
    },
    {
      "cell_type": "code",
      "metadata": {
        "id": "zp7TK7ro0gaO"
      },
      "source": [
        "type(seeet)"
      ],
      "execution_count": null,
      "outputs": []
    },
    {
      "cell_type": "markdown",
      "metadata": {
        "id": "-yOD33Lw0kiE"
      },
      "source": [
        "### Dictionary"
      ]
    },
    {
      "cell_type": "code",
      "metadata": {
        "id": "W008Pw7i0iQk"
      },
      "source": [
        "disk = {\"name\": \"Nivu\", \"age\": 26}"
      ],
      "execution_count": null,
      "outputs": []
    },
    {
      "cell_type": "code",
      "metadata": {
        "id": "ES6ozFOS0vTx"
      },
      "source": [
        "disk.keys()"
      ],
      "execution_count": null,
      "outputs": []
    },
    {
      "cell_type": "code",
      "metadata": {
        "id": "cDnHRmoy0xk2"
      },
      "source": [
        "disk.values()"
      ],
      "execution_count": null,
      "outputs": []
    },
    {
      "cell_type": "code",
      "metadata": {
        "id": "csmNYh540zu8"
      },
      "source": [
        "disk['name']"
      ],
      "execution_count": null,
      "outputs": []
    },
    {
      "cell_type": "code",
      "metadata": {
        "id": "YLb1ySna01cu"
      },
      "source": [
        "disk['name'] = \"Raja\""
      ],
      "execution_count": null,
      "outputs": []
    },
    {
      "cell_type": "code",
      "metadata": {
        "id": "sU7ii15l04YC"
      },
      "source": [
        "disk"
      ],
      "execution_count": null,
      "outputs": []
    },
    {
      "cell_type": "code",
      "metadata": {
        "id": "ORCPGF-705bN"
      },
      "source": [
        "type(disk)"
      ],
      "execution_count": null,
      "outputs": []
    },
    {
      "cell_type": "code",
      "metadata": {
        "id": "wanLYvN908hR"
      },
      "source": [
        "disk['lang'] = ['Eng', 'Tam']"
      ],
      "execution_count": null,
      "outputs": []
    },
    {
      "cell_type": "code",
      "metadata": {
        "id": "C2pm4Zj61GmX"
      },
      "source": [
        "del disk['age']"
      ],
      "execution_count": null,
      "outputs": []
    },
    {
      "cell_type": "code",
      "metadata": {
        "id": "4TovLgSQ1HHZ"
      },
      "source": [
        "disk"
      ],
      "execution_count": null,
      "outputs": []
    },
    {
      "cell_type": "code",
      "metadata": {
        "id": "WdgbOSHB1JTz"
      },
      "source": [
        "for k in disk.keys():\n",
        "  print(k, disk[k])"
      ],
      "execution_count": null,
      "outputs": []
    },
    {
      "cell_type": "markdown",
      "metadata": {
        "id": "F5c1hCx41pkA"
      },
      "source": [
        "## Type conversion\n",
        "\n",
        "- explicit, implicit"
      ]
    },
    {
      "cell_type": "code",
      "metadata": {
        "id": "OGq0H37d1d9G"
      },
      "source": [
        "True + 1"
      ],
      "execution_count": null,
      "outputs": []
    },
    {
      "cell_type": "code",
      "metadata": {
        "id": "RPjukNLo1zct"
      },
      "source": [
        "1 + 1.0"
      ],
      "execution_count": null,
      "outputs": []
    },
    {
      "cell_type": "code",
      "metadata": {
        "id": "EUn7evB917R3"
      },
      "source": [
        "\"Ste\" + str(1) # exp conv"
      ],
      "execution_count": null,
      "outputs": []
    },
    {
      "cell_type": "code",
      "metadata": {
        "id": "Wbvrou4W19n3"
      },
      "source": [
        "print(int(1.3))\n",
        "print(float(1))\n",
        "print(str(1))"
      ],
      "execution_count": null,
      "outputs": []
    },
    {
      "cell_type": "code",
      "metadata": {
        "id": "zX976oDl2Mnh"
      },
      "source": [
        "int('4')"
      ],
      "execution_count": null,
      "outputs": []
    },
    {
      "cell_type": "markdown",
      "metadata": {
        "id": "eY8SC9Nf2rGk"
      },
      "source": [
        "## Python Input, Output and Import\n"
      ]
    },
    {
      "cell_type": "code",
      "metadata": {
        "id": "OQ8_Dh-42d4U"
      },
      "source": [
        "print(1, 2, 3, 4)\n",
        "print(1, 2, 3, 4, sep='*')\n",
        "print(1, 2, 3, 4, sep='#', end='&')"
      ],
      "execution_count": null,
      "outputs": []
    },
    {
      "cell_type": "code",
      "metadata": {
        "id": "289dZOeq2tXh"
      },
      "source": [
        "x = 5; y = 10\n",
        "print('The value of x is {} and y is {}'.format(x,y))"
      ],
      "execution_count": null,
      "outputs": []
    },
    {
      "cell_type": "code",
      "metadata": {
        "id": "DLclbGvZ2zaE"
      },
      "source": [
        "a = input(\"What is the value?\")"
      ],
      "execution_count": null,
      "outputs": []
    },
    {
      "cell_type": "code",
      "metadata": {
        "id": "2tth1O4024Vs"
      },
      "source": [
        "a"
      ],
      "execution_count": null,
      "outputs": []
    },
    {
      "cell_type": "code",
      "metadata": {
        "id": "ThyfUV8Q26wo"
      },
      "source": [
        "import new"
      ],
      "execution_count": null,
      "outputs": []
    },
    {
      "cell_type": "code",
      "metadata": {
        "id": "JUM2Ku0C3CAo"
      },
      "source": [
        "from new import GRAVITY"
      ],
      "execution_count": null,
      "outputs": []
    },
    {
      "cell_type": "code",
      "metadata": {
        "id": "JVlthaGz3J-Z"
      },
      "source": [
        "import sys"
      ],
      "execution_count": null,
      "outputs": []
    },
    {
      "cell_type": "code",
      "metadata": {
        "id": "rHKyc1ss3O88"
      },
      "source": [
        "sys.path"
      ],
      "execution_count": null,
      "outputs": []
    },
    {
      "cell_type": "code",
      "metadata": {
        "id": "wIqnlKSD3NVP"
      },
      "source": [
        "import os"
      ],
      "execution_count": null,
      "outputs": []
    },
    {
      "cell_type": "code",
      "metadata": {
        "id": "sls2hxjV3OZA"
      },
      "source": [
        "import time, datatime"
      ],
      "execution_count": null,
      "outputs": []
    },
    {
      "cell_type": "markdown",
      "metadata": {
        "id": "x8Uk4K1ryaik"
      },
      "source": [
        "## Python Operators"
      ]
    },
    {
      "cell_type": "code",
      "metadata": {
        "id": "8xns9W-Q3SIS"
      },
      "source": [
        "print(9 + 2)\n",
        "print(9 - 2)\n",
        "print(9 / 2)\n",
        "print(9 // 2)\n",
        "print(9 % 2)\n",
        "print(9 * 2)\n",
        "print(9**5)\n",
        "\n",
        "\n",
        "\n"
      ],
      "execution_count": null,
      "outputs": []
    },
    {
      "cell_type": "code",
      "metadata": {
        "id": "Az93Ht7F3uWn"
      },
      "source": [
        "x = 10\n",
        "y = 12\n",
        "\n",
        "# Output: x > y is False\n",
        "print('x > y is',x>y)\n",
        "\n",
        "# Output: x < y is True\n",
        "print('x < y is',x<y)\n",
        "\n",
        "# Output: x == y is False\n",
        "print('x == y is',x==y)\n",
        "\n",
        "# Output: x != y is True\n",
        "print('x != y is',x!=y)\n",
        "\n",
        "# Output: x >= y is False\n",
        "print('x >= y is',x>=y)\n",
        "\n",
        "# Output: x <= y is True\n",
        "print('x <= y is',x<=y)"
      ],
      "execution_count": null,
      "outputs": []
    },
    {
      "cell_type": "code",
      "metadata": {
        "id": "o5iUMVea37Df"
      },
      "source": [
        "True and True"
      ],
      "execution_count": null,
      "outputs": []
    },
    {
      "cell_type": "code",
      "metadata": {
        "id": "zsyqlSom4B5J"
      },
      "source": [
        "True and False"
      ],
      "execution_count": null,
      "outputs": []
    },
    {
      "cell_type": "code",
      "metadata": {
        "id": "L2_KVOWu4EDJ"
      },
      "source": [
        "x = True\n",
        "y = False\n",
        "\n",
        "print('x and y is',x and y)\n",
        "\n",
        "print('x or y is',x or y)\n",
        "\n",
        "print('not x is',not x)"
      ],
      "execution_count": null,
      "outputs": []
    },
    {
      "cell_type": "code",
      "metadata": {
        "id": "iQ-7VqxG4FtD"
      },
      "source": [
        "a = 10\n",
        "b = 4"
      ],
      "execution_count": null,
      "outputs": []
    },
    {
      "cell_type": "code",
      "metadata": {
        "id": "ssk6jPCC4XU5"
      },
      "source": [
        "a & b"
      ],
      "execution_count": null,
      "outputs": []
    },
    {
      "cell_type": "code",
      "metadata": {
        "id": "3FDYw_tg4YRD"
      },
      "source": [
        "a | b"
      ],
      "execution_count": null,
      "outputs": []
    },
    {
      "cell_type": "code",
      "metadata": {
        "id": "ygb1swMT4aPh"
      },
      "source": [
        "x1 = 5\n",
        "y1 = 5\n",
        "x2 = 'Hello'\n",
        "y2 = 'Hello'\n",
        "x3 = [1,2,3]\n",
        "y3 = [1,2,3]\n",
        "\n",
        "# Output: False\n",
        "print(x1 is not y1)\n",
        "\n",
        "# Output: True\n",
        "print(x2 is y2)\n",
        "\n",
        "# Output: False\n",
        "print(x3 is y3)"
      ],
      "execution_count": null,
      "outputs": []
    },
    {
      "cell_type": "code",
      "metadata": {
        "id": "ZI0zT07R4yrN"
      },
      "source": [
        "id(x1)"
      ],
      "execution_count": null,
      "outputs": []
    },
    {
      "cell_type": "code",
      "metadata": {
        "id": "Dfxr083n41gd"
      },
      "source": [
        "id(y1)"
      ],
      "execution_count": null,
      "outputs": []
    },
    {
      "cell_type": "code",
      "metadata": {
        "id": "Do8_Dqr842jP"
      },
      "source": [
        "# == the values are compared\n"
      ],
      "execution_count": null,
      "outputs": []
    },
    {
      "cell_type": "code",
      "metadata": {
        "id": "Px3IKSvN5DSK"
      },
      "source": [
        "a = [1,3,4]"
      ],
      "execution_count": null,
      "outputs": []
    },
    {
      "cell_type": "code",
      "metadata": {
        "id": "XAlHjAbI5Ewn"
      },
      "source": [
        "if 3 in a:\n",
        "  print(a.index(3))"
      ],
      "execution_count": null,
      "outputs": []
    },
    {
      "cell_type": "markdown",
      "metadata": {
        "id": "Tkb71rBUygAZ"
      },
      "source": [
        "## Python Flow Control"
      ]
    },
    {
      "cell_type": "markdown",
      "metadata": {
        "id": "YvWXbA0a2XhQ"
      },
      "source": [
        "### if"
      ]
    },
    {
      "cell_type": "code",
      "metadata": {
        "id": "_4D7zHnl5GHu"
      },
      "source": [
        "a = 13\n",
        "if a > 5 and a < 12:\n",
        "  print(\"True block\")\n",
        "elif a > 12:\n",
        "  print(\"elif\")\n",
        "else:\n",
        "  print(\"else\")"
      ],
      "execution_count": null,
      "outputs": []
    },
    {
      "cell_type": "code",
      "metadata": {
        "id": "6skk-ENV1cip"
      },
      "source": [
        "if 3:\n",
        "  print(\"True\")\n",
        "if 0:\n",
        "  print(\"False\")"
      ],
      "execution_count": null,
      "outputs": []
    },
    {
      "cell_type": "markdown",
      "metadata": {
        "id": "MIUdK0xI2DrK"
      },
      "source": [
        "### Nested statements"
      ]
    },
    {
      "cell_type": "code",
      "metadata": {
        "id": "5WXVoBbY14t3"
      },
      "source": [
        "if a > 10:\n",
        "  if a < 15:\n",
        "    print(\"10 to 15\")\n",
        "    if True:\n",
        "      print(\"True\")\n",
        "  else:\n",
        "    print(\"more\")"
      ],
      "execution_count": null,
      "outputs": []
    },
    {
      "cell_type": "code",
      "metadata": {
        "colab": {
          "base_uri": "https://localhost:8080/"
        },
        "id": "acdtqHbM-o98",
        "outputId": "5f1ed575-40d0-4330-bca6-a7d6624669c7"
      },
      "source": [
        "if range(2,10, -1):\n",
        "  print(\"yes\")\n",
        "else:\n",
        "  print(\"empty\")"
      ],
      "execution_count": null,
      "outputs": [
        {
          "output_type": "stream",
          "name": "stdout",
          "text": [
            "empty\n"
          ]
        }
      ]
    },
    {
      "cell_type": "code",
      "metadata": {
        "id": "1KkMdttW-x7J"
      },
      "source": [
        "# False/True\n",
        "# 0/1\n",
        "# -inf/+inf\n",
        "# []/[1]\n",
        "# None/val"
      ],
      "execution_count": null,
      "outputs": []
    },
    {
      "cell_type": "markdown",
      "metadata": {
        "id": "QMHRMSDm2Z0M"
      },
      "source": [
        "### for"
      ]
    },
    {
      "cell_type": "code",
      "metadata": {
        "id": "j8Qmh7pR2Le-"
      },
      "source": [
        "for val in \"name\":\n",
        "  print(val)"
      ],
      "execution_count": null,
      "outputs": []
    },
    {
      "cell_type": "code",
      "metadata": {
        "id": "Tkp38dio2qkO"
      },
      "source": [
        "sum = 0\n",
        "for val in [1,2,3,6,7,8]:\n",
        "  print(val)\n",
        "  sum+=val\n",
        "print(sum)"
      ],
      "execution_count": null,
      "outputs": []
    },
    {
      "cell_type": "code",
      "metadata": {
        "id": "5yplwZUJ2ulu"
      },
      "source": [
        "for val in range(3, 8, 2): # start, stop, step\n",
        "  print(val)"
      ],
      "execution_count": null,
      "outputs": []
    },
    {
      "cell_type": "code",
      "metadata": {
        "id": "wDNxONp_24A-"
      },
      "source": [
        "lis = list(range(3, 8, 2))"
      ],
      "execution_count": null,
      "outputs": []
    },
    {
      "cell_type": "code",
      "metadata": {
        "id": "EWIygjjn3TBz"
      },
      "source": [
        "for i in range(len(lis)):\n",
        "  print(i)\n",
        "else:\n",
        "  print(\"End of loop\")"
      ],
      "execution_count": null,
      "outputs": []
    },
    {
      "cell_type": "code",
      "metadata": {
        "colab": {
          "base_uri": "https://localhost:8080/"
        },
        "id": "EvMhL4vk3dhA",
        "outputId": "1286977e-b10d-469b-a93f-ceff6d467ef2"
      },
      "source": [
        "lis = list(range(5))\n",
        "print(lis)\n",
        "lis2 = [6,7,8,9,10]"
      ],
      "execution_count": null,
      "outputs": [
        {
          "output_type": "stream",
          "name": "stdout",
          "text": [
            "[0, 1, 2, 3, 4]\n"
          ]
        }
      ]
    },
    {
      "cell_type": "code",
      "metadata": {
        "colab": {
          "base_uri": "https://localhost:8080/"
        },
        "id": "4iE4kBrw3rTB",
        "outputId": "ee76a693-e939-4964-e1dd-ec482a4d1c1f"
      },
      "source": [
        "for a,b,c in zip(lis, lis2, 'names'):\n",
        "  print(a,b, c)\n"
      ],
      "execution_count": null,
      "outputs": [
        {
          "output_type": "stream",
          "name": "stdout",
          "text": [
            "0 6 n\n",
            "1 7 a\n",
            "2 8 m\n",
            "3 9 e\n",
            "4 10 s\n"
          ]
        }
      ]
    },
    {
      "cell_type": "code",
      "metadata": {
        "colab": {
          "base_uri": "https://localhost:8080/"
        },
        "id": "XMeTNtLw4CKP",
        "outputId": "9c19d08a-32d0-4ca3-8b37-2bec0311ed4e"
      },
      "source": [
        "for i, val in enumerate(lis2):\n",
        "  print(i, val)"
      ],
      "execution_count": null,
      "outputs": [
        {
          "output_type": "stream",
          "name": "stdout",
          "text": [
            "0 6\n",
            "1 7\n",
            "2 8\n",
            "3 9\n",
            "4 10\n"
          ]
        }
      ]
    },
    {
      "cell_type": "markdown",
      "metadata": {
        "id": "tSJ9JoLO4jbt"
      },
      "source": [
        "### While"
      ]
    },
    {
      "cell_type": "code",
      "metadata": {
        "colab": {
          "base_uri": "https://localhost:8080/"
        },
        "id": "aHk_Ea124YmH",
        "outputId": "0e533dd3-cfcf-4096-eb29-d44da85f52b9"
      },
      "source": [
        "n = 10\n",
        "i = 0\n",
        "sum = 0\n",
        "\n",
        "while i <= n:\n",
        "  sum +=i\n",
        "  print(i)\n",
        "  i+=1\n",
        "else:\n",
        "  print(\"end of while loop\", sum)\n"
      ],
      "execution_count": null,
      "outputs": [
        {
          "output_type": "stream",
          "name": "stdout",
          "text": [
            "0\n",
            "1\n",
            "2\n",
            "3\n",
            "4\n",
            "5\n",
            "6\n",
            "7\n",
            "8\n",
            "9\n",
            "10\n",
            "end of while loop 55\n"
          ]
        }
      ]
    },
    {
      "cell_type": "code",
      "metadata": {
        "colab": {
          "base_uri": "https://localhost:8080/"
        },
        "id": "hrce_A704wUf",
        "outputId": "57bbe587-61ff-4142-b41e-18c84fbd0135"
      },
      "source": [
        "lis = [2,4,6,8,9, 10]\n",
        "for val in lis:\n",
        "  if val % 2 != 0:\n",
        "    break # breaks the entire look\n",
        "  print(val)"
      ],
      "execution_count": null,
      "outputs": [
        {
          "output_type": "stream",
          "name": "stdout",
          "text": [
            "2\n",
            "4\n",
            "6\n",
            "8\n"
          ]
        }
      ]
    },
    {
      "cell_type": "code",
      "metadata": {
        "colab": {
          "base_uri": "https://localhost:8080/"
        },
        "id": "XQ3ROqCK5Z02",
        "outputId": "dcaea7c4-5e9b-4cda-c3be-4c2724fbb406"
      },
      "source": [
        "lis = [2,4,6,8,9, 10]\n",
        "for val in lis:\n",
        "  if val % 2 != 0:\n",
        "    continue # skips the current loop execution\n",
        "  print(val)"
      ],
      "execution_count": null,
      "outputs": [
        {
          "output_type": "stream",
          "name": "stdout",
          "text": [
            "2\n",
            "4\n",
            "6\n",
            "8\n",
            "10\n"
          ]
        }
      ]
    },
    {
      "cell_type": "code",
      "metadata": {
        "id": "qGv0mRFQ5plb"
      },
      "source": [
        "def foo():\n",
        "  pass"
      ],
      "execution_count": null,
      "outputs": []
    },
    {
      "cell_type": "code",
      "metadata": {
        "id": "KFrBRIA-53v8"
      },
      "source": [
        "foo()"
      ],
      "execution_count": null,
      "outputs": []
    },
    {
      "cell_type": "markdown",
      "metadata": {
        "id": "0MDGvMYI6Huh"
      },
      "source": [
        "## Python functions"
      ]
    },
    {
      "cell_type": "code",
      "metadata": {
        "id": "8jYK8Lbw5_WA"
      },
      "source": [
        "def func_name():\n",
        "  \"\"\"Dummy function\"\"\"\n",
        "  print(\"print\")"
      ],
      "execution_count": null,
      "outputs": []
    },
    {
      "cell_type": "code",
      "metadata": {
        "colab": {
          "base_uri": "https://localhost:8080/"
        },
        "id": "VsFTS5S36bTd",
        "outputId": "064f336c-d623-4d92-93a8-7a52e8fd2cf8"
      },
      "source": [
        "func_name()"
      ],
      "execution_count": null,
      "outputs": [
        {
          "output_type": "stream",
          "name": "stdout",
          "text": [
            "print\n"
          ]
        }
      ]
    },
    {
      "cell_type": "code",
      "metadata": {
        "id": "n7x650lp6cwo"
      },
      "source": [
        "def func_name(name):\n",
        "  \"\"\"Dummy function\"\"\"\n",
        "  print(\"hi \", name)"
      ],
      "execution_count": null,
      "outputs": []
    },
    {
      "cell_type": "code",
      "metadata": {
        "colab": {
          "base_uri": "https://localhost:8080/"
        },
        "id": "vokzHQFS6l0U",
        "outputId": "4e8ca0e6-c62b-4c61-9787-9f3c9acd4236"
      },
      "source": [
        "func_name(\"Raja\")"
      ],
      "execution_count": null,
      "outputs": [
        {
          "output_type": "stream",
          "name": "stdout",
          "text": [
            "hi  Raja\n"
          ]
        }
      ]
    },
    {
      "cell_type": "code",
      "metadata": {
        "id": "-bQGvVPD6qFv"
      },
      "source": [
        "def sq(num):\n",
        "  \"\"\"Dummy function\"\"\"\n",
        "  return num**2"
      ],
      "execution_count": null,
      "outputs": []
    },
    {
      "cell_type": "code",
      "metadata": {
        "colab": {
          "base_uri": "https://localhost:8080/"
        },
        "id": "IFRN24bK6wJr",
        "outputId": "f49cd233-b40c-400d-c4db-3eea9e00120b"
      },
      "source": [
        "sq(2)"
      ],
      "execution_count": null,
      "outputs": [
        {
          "output_type": "execute_result",
          "data": {
            "text/plain": [
              "4"
            ]
          },
          "metadata": {},
          "execution_count": 89
        }
      ]
    },
    {
      "cell_type": "code",
      "metadata": {
        "id": "6ejrd0Kw6xJi"
      },
      "source": [
        "def sq(num1, num2):\n",
        "  \"\"\"Dummy function\"\"\"\n",
        "  return num1+num2, num1-num2"
      ],
      "execution_count": null,
      "outputs": []
    },
    {
      "cell_type": "code",
      "metadata": {
        "id": "36KdgBAv632t"
      },
      "source": [
        "ad, mi = sq(1,2)"
      ],
      "execution_count": null,
      "outputs": []
    },
    {
      "cell_type": "code",
      "metadata": {
        "colab": {
          "base_uri": "https://localhost:8080/"
        },
        "id": "cxEK8cFl65G5",
        "outputId": "a130a556-5b09-40ee-de8e-8c51cefdc500"
      },
      "source": [
        "print(ad, mi)"
      ],
      "execution_count": null,
      "outputs": [
        {
          "output_type": "stream",
          "name": "stdout",
          "text": [
            "3 -1\n"
          ]
        }
      ]
    },
    {
      "cell_type": "code",
      "metadata": {
        "id": "BDuzsB1g6_J_"
      },
      "source": [
        "def welcome(name, greeting=\"Hello\"):\n",
        "  print(\"hi\", name, greeting)"
      ],
      "execution_count": null,
      "outputs": []
    },
    {
      "cell_type": "code",
      "metadata": {
        "colab": {
          "base_uri": "https://localhost:8080/"
        },
        "id": "J5N950m07RSL",
        "outputId": "bac51dd1-2b02-4093-a23b-876d317c539a"
      },
      "source": [
        "welcome(\"Syed\", \"hello\")"
      ],
      "execution_count": null,
      "outputs": [
        {
          "output_type": "stream",
          "name": "stdout",
          "text": [
            "hi janani hello\n"
          ]
        }
      ]
    },
    {
      "cell_type": "code",
      "metadata": {
        "colab": {
          "base_uri": "https://localhost:8080/"
        },
        "id": "7SgyIalg7VCB",
        "outputId": "872bcf15-2cc4-47cb-bb96-3b89b07e13aa"
      },
      "source": [
        "welcome(\"Jafer\")"
      ],
      "execution_count": null,
      "outputs": [
        {
          "output_type": "stream",
          "name": "stdout",
          "text": [
            "hi raja Hello\n"
          ]
        }
      ]
    },
    {
      "cell_type": "code",
      "metadata": {
        "colab": {
          "base_uri": "https://localhost:8080/"
        },
        "id": "UF9rbOHW7eoE",
        "outputId": "d0828d07-3668-4120-ff4d-4976635aa054"
      },
      "source": [
        "welcome(greeting=\"hello\", name=\"Kumar\")"
      ],
      "execution_count": null,
      "outputs": [
        {
          "output_type": "stream",
          "name": "stdout",
          "text": [
            "hi raja hello\n"
          ]
        }
      ]
    },
    {
      "cell_type": "code",
      "metadata": {
        "colab": {
          "base_uri": "https://localhost:8080/"
        },
        "id": "VMcLtDe97tl3",
        "outputId": "53128318-24f0-46dd-af25-eebfd4a13821"
      },
      "source": [
        "list(range(10,0,1))"
      ],
      "execution_count": null,
      "outputs": [
        {
          "output_type": "execute_result",
          "data": {
            "text/plain": [
              "[]"
            ]
          },
          "metadata": {},
          "execution_count": 109
        }
      ]
    },
    {
      "cell_type": "code",
      "metadata": {
        "colab": {
          "base_uri": "https://localhost:8080/"
        },
        "id": "07JV1fTE7zPZ",
        "outputId": "6ae553c4-0e7e-4b83-944f-a61f380d9ced"
      },
      "source": [
        "list(range(10,0,-1))"
      ],
      "execution_count": null,
      "outputs": [
        {
          "output_type": "execute_result",
          "data": {
            "text/plain": [
              "[10, 9, 8, 7, 6, 5, 4, 3, 2, 1]"
            ]
          },
          "metadata": {},
          "execution_count": 110
        }
      ]
    },
    {
      "cell_type": "code",
      "metadata": {
        "colab": {
          "base_uri": "https://localhost:8080/"
        },
        "id": "I-lVWMfW8AmR",
        "outputId": "6c8218f4-6b31-4a87-f600-a0c2abb79255"
      },
      "source": [
        "def greet(*names):\n",
        "    \"\"\"This function greets all\n",
        "    the person in the names tuple.\"\"\"\n",
        "\n",
        "    # names is a tuple with arguments\n",
        "    for name in names:\n",
        "        print(\"Hello\", name)\n",
        "\n",
        "\n",
        "greet(\"Monica\", \"Luke\", \"Steve\", \"John\")"
      ],
      "execution_count": null,
      "outputs": [
        {
          "output_type": "stream",
          "name": "stdout",
          "text": [
            "Hello Monica\n",
            "Hello Luke\n",
            "Hello Steve\n",
            "Hello John\n"
          ]
        }
      ]
    },
    {
      "cell_type": "code",
      "metadata": {
        "id": "2nAc-gha8FbS"
      },
      "source": [
        "### lambda functions\n",
        "\n",
        "sq = lambda x: x ** 2\n",
        "add = lambda x,y: x + y\n"
      ],
      "execution_count": null,
      "outputs": []
    },
    {
      "cell_type": "code",
      "metadata": {
        "colab": {
          "base_uri": "https://localhost:8080/"
        },
        "id": "sUOAfHtC863Z",
        "outputId": "4ef1bea5-75aa-465d-c038-c9c6a83394b9"
      },
      "source": [
        "sq(4)"
      ],
      "execution_count": null,
      "outputs": [
        {
          "output_type": "execute_result",
          "data": {
            "text/plain": [
              "16"
            ]
          },
          "metadata": {},
          "execution_count": 115
        }
      ]
    },
    {
      "cell_type": "code",
      "metadata": {
        "colab": {
          "base_uri": "https://localhost:8080/"
        },
        "id": "jaG0-xst88wF",
        "outputId": "446210ba-96ed-4304-a5d3-8356ebf6b266"
      },
      "source": [
        "add(1,2)"
      ],
      "execution_count": null,
      "outputs": [
        {
          "output_type": "execute_result",
          "data": {
            "text/plain": [
              "3"
            ]
          },
          "metadata": {},
          "execution_count": 116
        }
      ]
    },
    {
      "cell_type": "code",
      "metadata": {
        "colab": {
          "base_uri": "https://localhost:8080/"
        },
        "id": "Y0M6h3Xw9EnR",
        "outputId": "87e20290-fd29-4c7c-da5b-1a347b60d846"
      },
      "source": [
        "my_list = [1, 5, 4, 6, 8, 11, 3, 12]\n",
        "\n",
        "temp = []\n",
        "\n",
        "for val in my_list:\n",
        "  if val % 2 == 0:\n",
        "    temp.append(val)\n",
        "\n",
        "print(temp)"
      ],
      "execution_count": null,
      "outputs": [
        {
          "output_type": "stream",
          "name": "stdout",
          "text": [
            "[4, 6, 8, 12]\n"
          ]
        }
      ]
    },
    {
      "cell_type": "code",
      "metadata": {
        "colab": {
          "base_uri": "https://localhost:8080/"
        },
        "id": "SFfgm77i9WDC",
        "outputId": "ea1cf7d6-2396-48f3-dcc4-91d8c7f41580"
      },
      "source": [
        "list(filter(lambda x: (x%2 == 0), my_list))"
      ],
      "execution_count": null,
      "outputs": [
        {
          "output_type": "execute_result",
          "data": {
            "text/plain": [
              "[4, 6, 8, 12]"
            ]
          },
          "metadata": {},
          "execution_count": 121
        }
      ]
    },
    {
      "cell_type": "code",
      "metadata": {
        "colab": {
          "base_uri": "https://localhost:8080/"
        },
        "id": "z4TFYHY69i7t",
        "outputId": "19041ea6-d355-4204-d7ad-ab60936350f4"
      },
      "source": [
        "list(map(lambda x: x**2, my_list))"
      ],
      "execution_count": null,
      "outputs": [
        {
          "output_type": "execute_result",
          "data": {
            "text/plain": [
              "[1, 25, 16, 36, 64, 121, 9, 144]"
            ]
          },
          "metadata": {},
          "execution_count": 123
        }
      ]
    },
    {
      "cell_type": "code",
      "metadata": {
        "id": "xV42AbiU96Rl"
      },
      "source": [
        "def sq(a):\n",
        "  return a**2"
      ],
      "execution_count": null,
      "outputs": []
    },
    {
      "cell_type": "code",
      "metadata": {
        "colab": {
          "base_uri": "https://localhost:8080/"
        },
        "id": "uFG_J5Kl-EN6",
        "outputId": "429d5612-86f6-4786-8784-798668d5a77c"
      },
      "source": [
        "list(map(sq, my_list))"
      ],
      "execution_count": null,
      "outputs": [
        {
          "output_type": "execute_result",
          "data": {
            "text/plain": [
              "[1, 25, 16, 36, 64, 121, 9, 144]"
            ]
          },
          "metadata": {},
          "execution_count": 125
        }
      ]
    },
    {
      "cell_type": "markdown",
      "metadata": {
        "id": "Kg6CDkuE_In2"
      },
      "source": [
        "## Scope"
      ]
    },
    {
      "cell_type": "code",
      "metadata": {
        "colab": {
          "base_uri": "https://localhost:8080/"
        },
        "id": "TvDk3bpM-FVy",
        "outputId": "86230165-d9c2-438b-ba1d-fc37c163548f"
      },
      "source": [
        "x = \"global\"\n",
        "\n",
        "def foo():\n",
        "    print(\"x inside:\", x)\n",
        "\n",
        "\n",
        "foo()\n",
        "print(\"x outside:\", x)"
      ],
      "execution_count": null,
      "outputs": [
        {
          "output_type": "stream",
          "name": "stdout",
          "text": [
            "x inside: global\n",
            "x outside: global\n"
          ]
        }
      ]
    },
    {
      "cell_type": "code",
      "metadata": {
        "colab": {
          "base_uri": "https://localhost:8080/",
          "height": 326
        },
        "id": "eZJdeka6_XN1",
        "outputId": "9be358ed-c42e-4a56-cf90-4f61a2755677"
      },
      "source": [
        "x = \"global\"\n",
        "\n",
        "def foo():\n",
        "    x = x * 2\n",
        "    print(x)\n",
        "\n",
        "foo()"
      ],
      "execution_count": null,
      "outputs": [
        {
          "output_type": "error",
          "ename": "UnboundLocalError",
          "evalue": "ignored",
          "traceback": [
            "\u001b[0;31m---------------------------------------------------------------------------\u001b[0m",
            "\u001b[0;31mUnboundLocalError\u001b[0m                         Traceback (most recent call last)",
            "\u001b[0;32m<ipython-input-133-5bb9d7e58dc3>\u001b[0m in \u001b[0;36m<module>\u001b[0;34m()\u001b[0m\n\u001b[1;32m      5\u001b[0m     \u001b[0mprint\u001b[0m\u001b[0;34m(\u001b[0m\u001b[0mx\u001b[0m\u001b[0;34m)\u001b[0m\u001b[0;34m\u001b[0m\u001b[0;34m\u001b[0m\u001b[0m\n\u001b[1;32m      6\u001b[0m \u001b[0;34m\u001b[0m\u001b[0m\n\u001b[0;32m----> 7\u001b[0;31m \u001b[0mfoo\u001b[0m\u001b[0;34m(\u001b[0m\u001b[0;34m)\u001b[0m\u001b[0;34m\u001b[0m\u001b[0;34m\u001b[0m\u001b[0m\n\u001b[0m",
            "\u001b[0;32m<ipython-input-133-5bb9d7e58dc3>\u001b[0m in \u001b[0;36mfoo\u001b[0;34m()\u001b[0m\n\u001b[1;32m      2\u001b[0m \u001b[0;34m\u001b[0m\u001b[0m\n\u001b[1;32m      3\u001b[0m \u001b[0;32mdef\u001b[0m \u001b[0mfoo\u001b[0m\u001b[0;34m(\u001b[0m\u001b[0;34m)\u001b[0m\u001b[0;34m:\u001b[0m\u001b[0;34m\u001b[0m\u001b[0;34m\u001b[0m\u001b[0m\n\u001b[0;32m----> 4\u001b[0;31m     \u001b[0mx\u001b[0m \u001b[0;34m=\u001b[0m \u001b[0mx\u001b[0m \u001b[0;34m*\u001b[0m \u001b[0;36m2\u001b[0m\u001b[0;34m\u001b[0m\u001b[0;34m\u001b[0m\u001b[0m\n\u001b[0m\u001b[1;32m      5\u001b[0m     \u001b[0mprint\u001b[0m\u001b[0;34m(\u001b[0m\u001b[0mx\u001b[0m\u001b[0;34m)\u001b[0m\u001b[0;34m\u001b[0m\u001b[0;34m\u001b[0m\u001b[0m\n\u001b[1;32m      6\u001b[0m \u001b[0;34m\u001b[0m\u001b[0m\n",
            "\u001b[0;31mUnboundLocalError\u001b[0m: local variable 'x' referenced before assignment"
          ]
        }
      ]
    },
    {
      "cell_type": "code",
      "metadata": {
        "colab": {
          "base_uri": "https://localhost:8080/"
        },
        "id": "n6Abx-aW_uRO",
        "outputId": "dfbb1522-cb64-4a52-958a-2e3048b9baac"
      },
      "source": [
        "x = \"global\"\n",
        "\n",
        "def foo():\n",
        "    global x\n",
        "    x = x * 2\n",
        "    print(x)\n",
        "\n",
        "foo()"
      ],
      "execution_count": null,
      "outputs": [
        {
          "output_type": "stream",
          "name": "stdout",
          "text": [
            "globalglobal\n"
          ]
        }
      ]
    },
    {
      "cell_type": "code",
      "metadata": {
        "id": "7czIWk6j_7ic"
      },
      "source": [
        "def foo():\n",
        "  x = 10\n",
        "  print(x)"
      ],
      "execution_count": null,
      "outputs": []
    },
    {
      "cell_type": "code",
      "metadata": {
        "colab": {
          "base_uri": "https://localhost:8080/"
        },
        "id": "h7c_KYiOAD3e",
        "outputId": "4bf95ef2-83d4-4ed4-cc7c-60eef4e52eec"
      },
      "source": [
        "foo()"
      ],
      "execution_count": null,
      "outputs": [
        {
          "output_type": "stream",
          "name": "stdout",
          "text": [
            "10\n"
          ]
        }
      ]
    },
    {
      "cell_type": "code",
      "metadata": {
        "id": "jfk6axcKAEkB"
      },
      "source": [
        "def outer():\n",
        "  x = \"local\"\n",
        "\n",
        "  def inner():\n",
        "    nonlocal x\n",
        "    x = \"nonlocal\"\n",
        "    print(\"inner\", x)\n",
        "\n",
        "  print(\"outer\", x)\n",
        "  inner()\n",
        "  print(\"outer\", x)"
      ],
      "execution_count": null,
      "outputs": []
    },
    {
      "cell_type": "code",
      "metadata": {
        "colab": {
          "base_uri": "https://localhost:8080/"
        },
        "id": "y4a_RAuUAbzG",
        "outputId": "f51c11a4-a639-4124-db48-bc88fa8eed1e"
      },
      "source": [
        "outer()"
      ],
      "execution_count": null,
      "outputs": [
        {
          "output_type": "stream",
          "name": "stdout",
          "text": [
            "outer local\n",
            "inner nonlocal\n",
            "outer nonlocal\n"
          ]
        }
      ]
    }
  ]
}